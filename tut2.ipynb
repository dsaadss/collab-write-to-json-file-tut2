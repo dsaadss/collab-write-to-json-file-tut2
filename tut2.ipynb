{
  "nbformat": 4,
  "nbformat_minor": 0,
  "metadata": {
    "colab": {
      "provenance": [],
      "authorship_tag": "ABX9TyN0/UdAb+R1JW2zQp7CSCqz",
      "include_colab_link": true
    },
    "kernelspec": {
      "name": "python3",
      "display_name": "Python 3"
    },
    "language_info": {
      "name": "python"
    },
    "widgets": {
      "application/vnd.jupyter.widget-state+json": {
        "9355c3eae010443da152dd0f8480175e": {
          "model_module": "@jupyter-widgets/controls",
          "model_name": "DropdownModel",
          "model_module_version": "1.5.0",
          "state": {
            "_dom_classes": [],
            "_model_module": "@jupyter-widgets/controls",
            "_model_module_version": "1.5.0",
            "_model_name": "DropdownModel",
            "_options_labels": [
              "yarden barel",
              "aviram fishman",
              "Yaakov Shitrit",
              "Bar Matzliah",
              "Lee Tal",
              "Adar Cohen"
            ],
            "_view_count": null,
            "_view_module": "@jupyter-widgets/controls",
            "_view_module_version": "1.5.0",
            "_view_name": "DropdownView",
            "description": "Student:",
            "description_tooltip": null,
            "disabled": false,
            "index": 2,
            "layout": "IPY_MODEL_1cea8687d4604d70af19cfc1036258b5",
            "style": "IPY_MODEL_ecbc538154664e44a5898275f3e1ef09"
          }
        },
        "1cea8687d4604d70af19cfc1036258b5": {
          "model_module": "@jupyter-widgets/base",
          "model_name": "LayoutModel",
          "model_module_version": "1.2.0",
          "state": {
            "_model_module": "@jupyter-widgets/base",
            "_model_module_version": "1.2.0",
            "_model_name": "LayoutModel",
            "_view_count": null,
            "_view_module": "@jupyter-widgets/base",
            "_view_module_version": "1.2.0",
            "_view_name": "LayoutView",
            "align_content": null,
            "align_items": null,
            "align_self": null,
            "border": null,
            "bottom": null,
            "display": null,
            "flex": null,
            "flex_flow": null,
            "grid_area": null,
            "grid_auto_columns": null,
            "grid_auto_flow": null,
            "grid_auto_rows": null,
            "grid_column": null,
            "grid_gap": null,
            "grid_row": null,
            "grid_template_areas": null,
            "grid_template_columns": null,
            "grid_template_rows": null,
            "height": null,
            "justify_content": null,
            "justify_items": null,
            "left": null,
            "margin": null,
            "max_height": null,
            "max_width": null,
            "min_height": null,
            "min_width": null,
            "object_fit": null,
            "object_position": null,
            "order": null,
            "overflow": null,
            "overflow_x": null,
            "overflow_y": null,
            "padding": null,
            "right": null,
            "top": null,
            "visibility": null,
            "width": null
          }
        },
        "ecbc538154664e44a5898275f3e1ef09": {
          "model_module": "@jupyter-widgets/controls",
          "model_name": "DescriptionStyleModel",
          "model_module_version": "1.5.0",
          "state": {
            "_model_module": "@jupyter-widgets/controls",
            "_model_module_version": "1.5.0",
            "_model_name": "DescriptionStyleModel",
            "_view_count": null,
            "_view_module": "@jupyter-widgets/base",
            "_view_module_version": "1.2.0",
            "_view_name": "StyleView",
            "description_width": ""
          }
        },
        "5c1cdc5c20f84190bb5f6b397974ac6d": {
          "model_module": "@jupyter-widgets/output",
          "model_name": "OutputModel",
          "model_module_version": "1.0.0",
          "state": {
            "_dom_classes": [],
            "_model_module": "@jupyter-widgets/output",
            "_model_module_version": "1.0.0",
            "_model_name": "OutputModel",
            "_view_count": null,
            "_view_module": "@jupyter-widgets/output",
            "_view_module_version": "1.0.0",
            "_view_name": "OutputView",
            "layout": "IPY_MODEL_2bc27e9d5ce24f2d879869899f0ad5cd",
            "msg_id": "",
            "outputs": [
              {
                "output_type": "stream",
                "name": "stdout",
                "text": [
                  "Name: Yaakov Shitrit\n",
                  "Email: yaakov.shitrit@e.braude.ac.il\n",
                  "Courses: Introduction to cloud computing, Applied technical english, Data mining and learning systems, Computer networks, Chess\n",
                  "link: https://colab.research.google.com/github/ultralytics/ultralytics/blob/main/examples/tutorial.ipynb\n",
                  "TV-Show: testing\n"
                ]
              }
            ]
          }
        },
        "2bc27e9d5ce24f2d879869899f0ad5cd": {
          "model_module": "@jupyter-widgets/base",
          "model_name": "LayoutModel",
          "model_module_version": "1.2.0",
          "state": {
            "_model_module": "@jupyter-widgets/base",
            "_model_module_version": "1.2.0",
            "_model_name": "LayoutModel",
            "_view_count": null,
            "_view_module": "@jupyter-widgets/base",
            "_view_module_version": "1.2.0",
            "_view_name": "LayoutView",
            "align_content": null,
            "align_items": null,
            "align_self": null,
            "border": null,
            "bottom": null,
            "display": null,
            "flex": null,
            "flex_flow": null,
            "grid_area": null,
            "grid_auto_columns": null,
            "grid_auto_flow": null,
            "grid_auto_rows": null,
            "grid_column": null,
            "grid_gap": null,
            "grid_row": null,
            "grid_template_areas": null,
            "grid_template_columns": null,
            "grid_template_rows": null,
            "height": null,
            "justify_content": null,
            "justify_items": null,
            "left": null,
            "margin": null,
            "max_height": null,
            "max_width": null,
            "min_height": null,
            "min_width": null,
            "object_fit": null,
            "object_position": null,
            "order": null,
            "overflow": null,
            "overflow_x": null,
            "overflow_y": null,
            "padding": null,
            "right": null,
            "top": null,
            "visibility": null,
            "width": null
          }
        },
        "5ddef9c08a3d46be89f73756d7cfa57e": {
          "model_module": "@jupyter-widgets/controls",
          "model_name": "TextModel",
          "model_module_version": "1.5.0",
          "state": {
            "_dom_classes": [],
            "_model_module": "@jupyter-widgets/controls",
            "_model_module_version": "1.5.0",
            "_model_name": "TextModel",
            "_view_count": null,
            "_view_module": "@jupyter-widgets/controls",
            "_view_module_version": "1.5.0",
            "_view_name": "TextView",
            "continuous_update": true,
            "description": "Input:",
            "description_tooltip": null,
            "disabled": false,
            "layout": "IPY_MODEL_de807ea757c04881b311a853e6e16a28",
            "placeholder": "Enter favorite TV show:",
            "style": "IPY_MODEL_f8a8e7f244a44c2990a61ec8c9fd89ac",
            "value": ""
          }
        },
        "de807ea757c04881b311a853e6e16a28": {
          "model_module": "@jupyter-widgets/base",
          "model_name": "LayoutModel",
          "model_module_version": "1.2.0",
          "state": {
            "_model_module": "@jupyter-widgets/base",
            "_model_module_version": "1.2.0",
            "_model_name": "LayoutModel",
            "_view_count": null,
            "_view_module": "@jupyter-widgets/base",
            "_view_module_version": "1.2.0",
            "_view_name": "LayoutView",
            "align_content": null,
            "align_items": null,
            "align_self": null,
            "border": null,
            "bottom": null,
            "display": null,
            "flex": null,
            "flex_flow": null,
            "grid_area": null,
            "grid_auto_columns": null,
            "grid_auto_flow": null,
            "grid_auto_rows": null,
            "grid_column": null,
            "grid_gap": null,
            "grid_row": null,
            "grid_template_areas": null,
            "grid_template_columns": null,
            "grid_template_rows": null,
            "height": null,
            "justify_content": null,
            "justify_items": null,
            "left": null,
            "margin": null,
            "max_height": null,
            "max_width": null,
            "min_height": null,
            "min_width": null,
            "object_fit": null,
            "object_position": null,
            "order": null,
            "overflow": null,
            "overflow_x": null,
            "overflow_y": null,
            "padding": null,
            "right": null,
            "top": null,
            "visibility": null,
            "width": null
          }
        },
        "f8a8e7f244a44c2990a61ec8c9fd89ac": {
          "model_module": "@jupyter-widgets/controls",
          "model_name": "DescriptionStyleModel",
          "model_module_version": "1.5.0",
          "state": {
            "_model_module": "@jupyter-widgets/controls",
            "_model_module_version": "1.5.0",
            "_model_name": "DescriptionStyleModel",
            "_view_count": null,
            "_view_module": "@jupyter-widgets/base",
            "_view_module_version": "1.2.0",
            "_view_name": "StyleView",
            "description_width": ""
          }
        },
        "1d5d9f4b3fb1447fa5b6ea3dd932847d": {
          "model_module": "@jupyter-widgets/controls",
          "model_name": "ButtonModel",
          "model_module_version": "1.5.0",
          "state": {
            "_dom_classes": [],
            "_model_module": "@jupyter-widgets/controls",
            "_model_module_version": "1.5.0",
            "_model_name": "ButtonModel",
            "_view_count": null,
            "_view_module": "@jupyter-widgets/controls",
            "_view_module_version": "1.5.0",
            "_view_name": "ButtonView",
            "button_style": "success",
            "description": "Save TV show for student",
            "disabled": false,
            "icon": "check",
            "layout": "IPY_MODEL_10dad6810e514cf39b3eca60a696f13c",
            "style": "IPY_MODEL_f5853114db9e4933adffbf5af991b166",
            "tooltip": "Click to submit your text"
          }
        },
        "10dad6810e514cf39b3eca60a696f13c": {
          "model_module": "@jupyter-widgets/base",
          "model_name": "LayoutModel",
          "model_module_version": "1.2.0",
          "state": {
            "_model_module": "@jupyter-widgets/base",
            "_model_module_version": "1.2.0",
            "_model_name": "LayoutModel",
            "_view_count": null,
            "_view_module": "@jupyter-widgets/base",
            "_view_module_version": "1.2.0",
            "_view_name": "LayoutView",
            "align_content": null,
            "align_items": null,
            "align_self": null,
            "border": null,
            "bottom": null,
            "display": null,
            "flex": null,
            "flex_flow": null,
            "grid_area": null,
            "grid_auto_columns": null,
            "grid_auto_flow": null,
            "grid_auto_rows": null,
            "grid_column": null,
            "grid_gap": null,
            "grid_row": null,
            "grid_template_areas": null,
            "grid_template_columns": null,
            "grid_template_rows": null,
            "height": null,
            "justify_content": null,
            "justify_items": null,
            "left": null,
            "margin": "1px 1px 1px 80px",
            "max_height": null,
            "max_width": null,
            "min_height": null,
            "min_width": null,
            "object_fit": null,
            "object_position": null,
            "order": null,
            "overflow": null,
            "overflow_x": null,
            "overflow_y": null,
            "padding": null,
            "right": null,
            "top": null,
            "visibility": null,
            "width": "250px"
          }
        },
        "f5853114db9e4933adffbf5af991b166": {
          "model_module": "@jupyter-widgets/controls",
          "model_name": "ButtonStyleModel",
          "model_module_version": "1.5.0",
          "state": {
            "_model_module": "@jupyter-widgets/controls",
            "_model_module_version": "1.5.0",
            "_model_name": "ButtonStyleModel",
            "_view_count": null,
            "_view_module": "@jupyter-widgets/base",
            "_view_module_version": "1.2.0",
            "_view_name": "StyleView",
            "button_color": null,
            "font_weight": ""
          }
        }
      }
    }
  },
  "cells": [
    {
      "cell_type": "markdown",
      "metadata": {
        "id": "view-in-github",
        "colab_type": "text"
      },
      "source": [
        "<a href=\"https://colab.research.google.com/github/dsaadss/collab-write-to-json-file-tut2/blob/main/tut2.ipynb\" target=\"_parent\"><img src=\"https://colab.research.google.com/assets/colab-badge.svg\" alt=\"Open In Colab\"/></a>"
      ]
    },
    {
      "cell_type": "code",
      "execution_count": 1,
      "metadata": {
        "colab": {
          "base_uri": "https://localhost:8080/"
        },
        "id": "H2Xd6MUu2bfN",
        "outputId": "d087c9e9-2d7c-4729-a3e4-cc4380edbf62"
      },
      "outputs": [
        {
          "output_type": "stream",
          "name": "stdout",
          "text": [
            "Mounted at /content/drive\n"
          ]
        }
      ],
      "source": [
        "from google.colab import drive\n",
        "drive.mount('/content/drive')"
      ]
    },
    {
      "cell_type": "code",
      "source": [
        "cd \"/content/drive/My Drive/Colab Notebooks\""
      ],
      "metadata": {
        "colab": {
          "base_uri": "https://localhost:8080/"
        },
        "id": "_-0_ZF255D2E",
        "outputId": "80272dae-509e-4907-d443-49c8f6834337"
      },
      "execution_count": 2,
      "outputs": [
        {
          "output_type": "stream",
          "name": "stdout",
          "text": [
            "/content/drive/My Drive/Colab Notebooks\n"
          ]
        }
      ]
    },
    {
      "cell_type": "code",
      "source": [
        "ls"
      ],
      "metadata": {
        "colab": {
          "base_uri": "https://localhost:8080/"
        },
        "id": "zqhT3hkQ5Fw1",
        "outputId": "fb92379d-cbb6-4569-b700-ed9eb8401a2e"
      },
      "execution_count": 3,
      "outputs": [
        {
          "output_type": "stream",
          "name": "stdout",
          "text": [
            " 1.txt      'Copy of StudentDataEditor.ipynb'   students.json   tut1cloud.ipynb   Untitled\n",
            " apod.json   s1.json                            students.txt    tut2.ipynb\n"
          ]
        }
      ]
    },
    {
      "cell_type": "code",
      "source": [
        "import json\n",
        "\n",
        "students_list = []\n",
        "\n",
        "\n",
        "with open('students.json', 'r') as fid:\n",
        "    z = json.load(fid)\n",
        "\n",
        "\n",
        "for student in z:\n",
        "    students_list.append(student)\n",
        "\n",
        "students_list.pop()\n",
        "for student in students_list:\n",
        "    print(student)\n",
        "\n"
      ],
      "metadata": {
        "colab": {
          "base_uri": "https://localhost:8080/"
        },
        "id": "zCfDbPeJcN0-",
        "outputId": "905f109d-54a4-4275-c3dd-cba4181c123b"
      },
      "execution_count": 20,
      "outputs": [
        {
          "output_type": "stream",
          "name": "stdout",
          "text": [
            "{'TV-Show': '', 'link': 'https://github.com/dsaadss?tab=repositories', 'Courses': ['Advanced Internet Technologies', 'Introduction to cloud computing', 'Probability for software engineering', 'Automata theory'], 'Email': 'Yarden.Shalom.Barel@e.braude.ac.il', 'last name': 'barel', 'Name': 'yarden'}\n",
            "{'TV-Show': '', 'link': 'https://www.linkedin.com/in/aviram-fishman', 'Courses': ['Management accounting', 'Introduction to cloud computing', 'learning systems', 'Introduction to whispering and learning'], 'Email': 'aviram.fishman@e.braude.ac.il', 'last name': 'fishman', 'Name': 'aviram'}\n",
            "{'TV-Show': 'Silicon valley', 'link': 'https://colab.research.google.com/github/ultralytics/ultralytics/blob/main/examples/tutorial.ipynb', 'Courses': ['Introduction to cloud computing', 'Applied technical english', 'Data mining and learning systems', 'Computer networks', 'Chess'], 'Email': 'yaakov.shitrit@e.braude.ac.il', 'last name': 'Shitrit', 'Name': 'Yaakov'}\n",
            "{'TV-Show': '', 'link': '', 'Courses': ['Introduction to cloud computing', 'Probability for software engineering', 'WEB', 'Optimization', 'compilation'], 'Email': 'bar.matzliah@e.braude.ac.il', 'last name': 'Matzliah', 'Name': 'Bar'}\n",
            "{'TV-Show': '', 'link': '', 'Courses': ['Introduction to cloud computing', 'introduction to optimization', 'data mining', 'algorithms for texts', 'programming languages', 'scientific programming'], 'Email': 'Lee.Bergman@e.braude.ac.il', 'last name': 'Tal', 'Name': 'Lee'}\n",
            "{'TV-Show': '', 'link': 'https://github.com/AdarCohen1', 'Courses': ['cloud computing', 'compilation', 'web technologies', 'Introduction to AI', 'general course'], 'Email': 'Adar.cohen@e.braude.ac.il', 'last name': 'Cohen', 'Name': 'Adar'}\n"
          ]
        }
      ]
    },
    {
      "cell_type": "code",
      "source": [
        "# @title Default title text\n",
        "import ipywidgets as widgets\n",
        "from IPython.display import display, clear_output\n",
        "import time\n",
        "\n",
        "\n",
        "\n",
        "# Dropdown widget to select a student\n",
        "student_dropdown = widgets.Dropdown(\n",
        "    options=[f\"{student['Name']} {student['last name']}\" for student in students_list],  # Use full names for options\n",
        "    description='Student:',\n",
        ")\n",
        "\n",
        "text_input = widgets.Text(\n",
        "    value='',\n",
        "    placeholder='Enter favorite TV show:',\n",
        "    description='Input:',\n",
        ")\n",
        "\n",
        "submit_button = widgets.Button(\n",
        "    description='Save TV show for student',\n",
        "    button_style='success',\n",
        "    tooltip='Click to submit your text',\n",
        "    icon='check',\n",
        "    layout=widgets.Layout(margin='1px 1px 1px 80px', width='250px')\n",
        ")\n",
        "\n",
        "# Output widget to display student details\n",
        "output = widgets.Output()\n",
        "\n",
        "def on_button_clicked(b):\n",
        "    # Find the selected student by full name\n",
        "    selected_student = next(student for student in students_list if f\"{student['Name']} {student['last name']}\" == student_dropdown.value)\n",
        "    selected_student['TV-Show'] = text_input.value\n",
        "    with open('students.json', 'w') as file:\n",
        "        json.dump(students_list,file, indent=6 ,sort_keys=True)\n",
        "    with output:\n",
        "        clear_output()\n",
        "        print(\"Saved\")\n",
        "    time.sleep(2)\n",
        "    with output:\n",
        "        clear_output()\n",
        "        text_input.value=''\n",
        "\n",
        "\n",
        "submit_button.on_click(on_button_clicked)\n",
        "\n",
        "def on_student_change(change):\n",
        "    output.clear_output()\n",
        "    # Find the selected student by full name\n",
        "    selected_student = next(student for student in students_list if f\"{student['Name']} {student['last name']}\" == change['new'])\n",
        "    with output:\n",
        "        print(f\"Name: {selected_student['Name']} {selected_student['last name']}\")\n",
        "        print(f\"Email: {selected_student['Email']}\")\n",
        "        print(f\"Courses: {', '.join(selected_student['Courses'])}\")\n",
        "        print(f\"link: {selected_student['link']}\")\n",
        "        print(f\"TV-Show: {selected_student['TV-Show']}\")\n",
        "\n",
        "# Linking the dropdown value change to update the display\n",
        "student_dropdown.observe(on_student_change, names='value')\n",
        "\n",
        "# Display widgets\n",
        "display(student_dropdown, output, text_input, submit_button)\n"
      ],
      "metadata": {
        "colab": {
          "base_uri": "https://localhost:8080/",
          "height": 226,
          "referenced_widgets": [
            "9355c3eae010443da152dd0f8480175e",
            "1cea8687d4604d70af19cfc1036258b5",
            "ecbc538154664e44a5898275f3e1ef09",
            "5c1cdc5c20f84190bb5f6b397974ac6d",
            "2bc27e9d5ce24f2d879869899f0ad5cd",
            "5ddef9c08a3d46be89f73756d7cfa57e",
            "de807ea757c04881b311a853e6e16a28",
            "f8a8e7f244a44c2990a61ec8c9fd89ac",
            "1d5d9f4b3fb1447fa5b6ea3dd932847d",
            "10dad6810e514cf39b3eca60a696f13c",
            "f5853114db9e4933adffbf5af991b166"
          ]
        },
        "id": "ITpzpJ7QlUug",
        "outputId": "aa950042-1873-4d00-e570-4f62841284c8"
      },
      "execution_count": 25,
      "outputs": [
        {
          "output_type": "display_data",
          "data": {
            "text/plain": [
              "Dropdown(description='Student:', options=('yarden barel', 'aviram fishman', 'Yaakov Shitrit', 'Bar Matzliah', …"
            ],
            "application/vnd.jupyter.widget-view+json": {
              "version_major": 2,
              "version_minor": 0,
              "model_id": "9355c3eae010443da152dd0f8480175e"
            }
          },
          "metadata": {}
        },
        {
          "output_type": "display_data",
          "data": {
            "text/plain": [
              "Output()"
            ],
            "application/vnd.jupyter.widget-view+json": {
              "version_major": 2,
              "version_minor": 0,
              "model_id": "5c1cdc5c20f84190bb5f6b397974ac6d"
            }
          },
          "metadata": {}
        },
        {
          "output_type": "display_data",
          "data": {
            "text/plain": [
              "Text(value='', description='Input:', placeholder='Enter favorite TV show:')"
            ],
            "application/vnd.jupyter.widget-view+json": {
              "version_major": 2,
              "version_minor": 0,
              "model_id": "5ddef9c08a3d46be89f73756d7cfa57e"
            }
          },
          "metadata": {}
        },
        {
          "output_type": "display_data",
          "data": {
            "text/plain": [
              "Button(button_style='success', description='Save TV show for student', icon='check', layout=Layout(margin='1px…"
            ],
            "application/vnd.jupyter.widget-view+json": {
              "version_major": 2,
              "version_minor": 0,
              "model_id": "1d5d9f4b3fb1447fa5b6ea3dd932847d"
            }
          },
          "metadata": {}
        }
      ]
    },
    {
      "cell_type": "code",
      "source": [],
      "metadata": {
        "id": "Z9BERk7yn3z4"
      },
      "execution_count": null,
      "outputs": []
    }
  ]
}